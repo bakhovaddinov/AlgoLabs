{
  "cells": [
    {
      "cell_type": "code",
      "execution_count": 1,
      "metadata": {
        "id": "671F2VYK0_DA"
      },
      "outputs": [],
      "source": [
        "import random\n",
        "import timeit\n",
        "\n",
        "num_vertices = 100\n",
        "num_edges = 500\n",
        "\n",
        "# Generate adjacency matrix\n",
        "g = [[0] * num_vertices for i in range(num_vertices)]\n",
        "edges_generated = 0\n",
        "while edges_generated < num_edges:\n",
        "    vertex1 = random.randint(0, num_vertices - 1)\n",
        "    vertex2 = random.randint(0, num_vertices - 1)\n",
        "\n",
        "    if vertex1 != vertex2 and g[vertex1][vertex2] == 0:\n",
        "        g[vertex1][vertex2] = random.randint(1,31)\n",
        "        g[vertex2][vertex1] = g[vertex1][vertex2]\n",
        "        edges_generated += 1"
      ]
    },
    {
      "cell_type": "code",
      "source": [
        "# adjacency list for nice visualisation\n",
        "adj_list = {i:[] for i in range(num_vertices)}\n",
        "for i in range(num_vertices):\n",
        "  for j in range(num_vertices):\n",
        "    if g[i][j]!=0:\n",
        "      adj_list[i].append(j)\n",
        "for k,v in adj_list.items():\n",
        "  print(k,v)"
      ],
      "metadata": {
        "id": "2VR2zGThv5hE"
      },
      "execution_count": null,
      "outputs": []
    },
    {
      "cell_type": "code",
      "execution_count": 3,
      "metadata": {
        "id": "ld5F6PLqvZ76"
      },
      "outputs": [],
      "source": [
        "# Dijkstra algorythm\n",
        "def dijkstra(start,graph):\n",
        "\n",
        "  # find unvisited neighbors of the vertex\n",
        "  def getNeighbors(vertex,unvisited,graph):\n",
        "    neighbors =[]\n",
        "    for i in unvisited:\n",
        "        if graph[i][vertex] != 0:\n",
        "            neighbors.append(i)\n",
        "    return neighbors\n",
        "\n",
        "  # find unvisited vertex with minimal distance\n",
        "  def getMinVertex(unvisited,dist):\n",
        "    min_value = float('inf')\n",
        "    min_vertex = None\n",
        "    for i in unvisited:\n",
        "      if dist[i] < min_value:\n",
        "        min_value = dist[i]\n",
        "        min_vertex = i\n",
        "    return min_vertex\n",
        "\n",
        "  vertexes = len(graph)\n",
        "  dist = [float('inf') for i in range(vertexes)]\n",
        "  prev = [ None for i in range(vertexes)]\n",
        "  unvisited = set()\n",
        "  for i in range(vertexes):\n",
        "      unvisited.add(i)\n",
        "  dist[start] = 0\n",
        "  while len(unvisited)>0:\n",
        "    u = getMinVertex(unvisited,dist)\n",
        "    unvisited.remove(u)\n",
        "    neighbors = getNeighbors(u,unvisited,graph)\n",
        "    for neighbor in neighbors:\n",
        "      alt = dist[u]+ graph[u][neighbor]\n",
        "      if alt < dist[neighbor]:\n",
        "        dist[neighbor] = alt\n",
        "        prev[neighbor] = u\n",
        "  return dist,prev"
      ]
    },
    {
      "cell_type": "code",
      "source": [
        "# implemeting Dijkstra's algorythm of source vertex and calculating average time\n",
        "src_vertex = 0\n",
        "\n",
        "sum_time = 0\n",
        "for i in range(10):\n",
        "  start_time = timeit.default_timer()\n",
        "  dist,prev = dijkstra(src_vertex,g)\n",
        "  end_time = timeit.default_timer()\n",
        "  sum_time+=(end_time-start_time)\n",
        "\n",
        "sum_time/10"
      ],
      "metadata": {
        "colab": {
          "base_uri": "https://localhost:8080/"
        },
        "id": "XXq9vNvM01ih",
        "outputId": "352708a4-a009-424c-e081-6c59939b8fe3"
      },
      "execution_count": 4,
      "outputs": [
        {
          "output_type": "execute_result",
          "data": {
            "text/plain": [
              "0.004429239399905782"
            ]
          },
          "metadata": {},
          "execution_count": 4
        }
      ]
    },
    {
      "cell_type": "code",
      "source": [
        "# Visualization of the paths\n",
        "for i in range(len(prev)):\n",
        "  path = []\n",
        "  cur = prev[i]\n",
        "  path.append(i)\n",
        "  while cur != None:\n",
        "    path.append(cur)\n",
        "    cur = prev[cur]\n",
        "    if cur == None:\n",
        "      break\n",
        "\n",
        "  path = path[::-1]\n",
        "  print(f'путь от {src_vertex} до {i} :{path}')\n",
        "\n",
        ""
      ],
      "metadata": {
        "colab": {
          "base_uri": "https://localhost:8080/"
        },
        "id": "zbe402Tert77",
        "outputId": "6ba42907-b4ae-4d24-e8a1-6cb297d7a278"
      },
      "execution_count": 7,
      "outputs": [
        {
          "output_type": "stream",
          "name": "stdout",
          "text": [
            "путь от 0 до 0 :[0]\n",
            "путь от 0 до 1 :[0, 11, 26, 1]\n",
            "путь от 0 до 2 :[0, 11, 81, 29, 75, 2]\n",
            "путь от 0 до 3 :[0, 11, 4, 8, 19, 3]\n",
            "путь от 0 до 4 :[0, 11, 4]\n",
            "путь от 0 до 5 :[0, 11, 5]\n",
            "путь от 0 до 6 :[0, 11, 5, 99, 6]\n",
            "путь от 0 до 7 :[0, 11, 5, 7]\n",
            "путь от 0 до 8 :[0, 11, 4, 8]\n",
            "путь от 0 до 9 :[0, 11, 81, 29, 75, 9]\n",
            "путь от 0 до 10 :[0, 11, 4, 8, 10]\n",
            "путь от 0 до 11 :[0, 11]\n",
            "путь от 0 до 12 :[0, 11, 26, 1, 12]\n",
            "путь от 0 до 13 :[0, 68, 22, 13]\n",
            "путь от 0 до 14 :[0, 68, 22, 13, 78, 14]\n",
            "путь от 0 до 15 :[0, 11, 26, 72, 15]\n",
            "путь от 0 до 16 :[0, 11, 81, 29, 75, 16]\n",
            "путь от 0 до 17 :[0, 11, 4, 17]\n",
            "путь от 0 до 18 :[0, 11, 81, 69, 18]\n",
            "путь от 0 до 19 :[0, 11, 4, 8, 19]\n",
            "путь от 0 до 20 :[0, 11, 4, 94, 20]\n",
            "путь от 0 до 21 :[0, 68, 22, 21]\n",
            "путь от 0 до 22 :[0, 68, 22]\n",
            "путь от 0 до 23 :[0, 11, 4, 23]\n",
            "путь от 0 до 24 :[0, 11, 81, 24]\n",
            "путь от 0 до 25 :[0, 11, 81, 64, 25]\n",
            "путь от 0 до 26 :[0, 11, 26]\n",
            "путь от 0 до 27 :[0, 68, 22, 13, 27]\n",
            "путь от 0 до 28 :[0, 11, 26, 28]\n",
            "путь от 0 до 29 :[0, 11, 81, 29]\n",
            "путь от 0 до 30 :[0, 68, 30]\n",
            "путь от 0 до 31 :[0, 11, 81, 64, 31]\n",
            "путь от 0 до 32 :[0, 11, 81, 29, 75, 36, 32]\n",
            "путь от 0 до 33 :[0, 11, 4, 57, 58, 33]\n",
            "путь от 0 до 34 :[0, 11, 81, 29, 43, 34]\n",
            "путь от 0 до 35 :[0, 68, 35]\n",
            "путь от 0 до 36 :[0, 11, 81, 29, 75, 36]\n",
            "путь от 0 до 37 :[0, 11, 81, 64, 42, 37]\n",
            "путь от 0 до 38 :[0, 11, 81, 64, 42, 80, 38]\n",
            "путь от 0 до 39 :[0, 11, 26, 28, 39]\n",
            "путь от 0 до 40 :[0, 11, 81, 64, 42, 55, 40]\n",
            "путь от 0 до 41 :[0, 11, 4, 94, 41]\n",
            "путь от 0 до 42 :[0, 11, 81, 64, 42]\n",
            "путь от 0 до 43 :[0, 11, 81, 29, 43]\n",
            "путь от 0 до 44 :[0, 11, 81, 69, 44]\n",
            "путь от 0 до 45 :[0, 11, 81, 45]\n",
            "путь от 0 до 46 :[0, 68, 35, 46]\n",
            "путь от 0 до 47 :[0, 11, 4, 8, 47]\n",
            "путь от 0 до 48 :[0, 11, 81, 29, 48]\n",
            "путь от 0 до 49 :[0, 11, 26, 72, 49]\n",
            "путь от 0 до 50 :[0, 11, 81, 64, 25, 50]\n",
            "путь от 0 до 51 :[0, 11, 81, 29, 43, 34, 51]\n",
            "путь от 0 до 52 :[0, 11, 26, 1, 52]\n",
            "путь от 0 до 53 :[0, 68, 53]\n",
            "путь от 0 до 54 :[0, 11, 4, 96, 54]\n",
            "путь от 0 до 55 :[0, 11, 81, 64, 42, 55]\n",
            "путь от 0 до 56 :[0, 68, 22, 21, 56]\n",
            "путь от 0 до 57 :[0, 11, 4, 57]\n",
            "путь от 0 до 58 :[0, 11, 4, 57, 58]\n",
            "путь от 0 до 59 :[0, 83, 59]\n",
            "путь от 0 до 60 :[0, 11, 26, 1, 84, 60]\n",
            "путь от 0 до 61 :[0, 11, 4, 17, 61]\n",
            "путь от 0 до 62 :[0, 11, 81, 29, 75, 62]\n",
            "путь от 0 до 63 :[0, 11, 4, 96, 63]\n",
            "путь от 0 до 64 :[0, 11, 81, 64]\n",
            "путь от 0 до 65 :[0, 11, 4, 94, 65]\n",
            "путь от 0 до 66 :[0, 11, 81, 29, 75, 66]\n",
            "путь от 0 до 67 :[0, 11, 26, 72, 67]\n",
            "путь от 0 до 68 :[0, 68]\n",
            "путь от 0 до 69 :[0, 11, 81, 69]\n",
            "путь от 0 до 70 :[0, 11, 5, 99, 6, 70]\n",
            "путь от 0 до 71 :[0, 11, 81, 29, 75, 66, 71]\n",
            "путь от 0 до 72 :[0, 11, 26, 72]\n",
            "путь от 0 до 73 :[0, 11, 26, 72, 15, 73]\n",
            "путь от 0 до 74 :[0, 11, 4, 8, 47, 74]\n",
            "путь от 0 до 75 :[0, 11, 81, 29, 75]\n",
            "путь от 0 до 76 :[0, 11, 26, 72, 76]\n",
            "путь от 0 до 77 :[0, 11, 4, 17, 77]\n",
            "путь от 0 до 78 :[0, 68, 22, 13, 78]\n",
            "путь от 0 до 79 :[0, 68, 35, 79]\n",
            "путь от 0 до 80 :[0, 11, 81, 64, 42, 80]\n",
            "путь от 0 до 81 :[0, 11, 81]\n",
            "путь от 0 до 82 :[0, 11, 81, 69, 82]\n",
            "путь от 0 до 83 :[0, 83]\n",
            "путь от 0 до 84 :[0, 11, 26, 1, 84]\n",
            "путь от 0 до 85 :[0, 11, 81, 64, 42, 80, 85]\n",
            "путь от 0 до 86 :[0, 11, 26, 72, 67, 86]\n",
            "путь от 0 до 87 :[0, 68, 22, 13, 78, 87]\n",
            "путь от 0 до 88 :[0, 11, 5, 88]\n",
            "путь от 0 до 89 :[0, 11, 4, 89]\n",
            "путь от 0 до 90 :[0, 11, 81, 29, 75, 16, 90]\n",
            "путь от 0 до 91 :[0, 68, 22, 21, 91]\n",
            "путь от 0 до 92 :[0, 11, 81, 69, 82, 92]\n",
            "путь от 0 до 93 :[0, 11, 26, 1, 12, 93]\n",
            "путь от 0 до 94 :[0, 11, 4, 94]\n",
            "путь от 0 до 95 :[0, 11, 26, 72, 95]\n",
            "путь от 0 до 96 :[0, 11, 4, 96]\n",
            "путь от 0 до 97 :[0, 11, 4, 8, 97]\n",
            "путь от 0 до 98 :[0, 11, 4, 8, 98]\n",
            "путь от 0 до 99 :[0, 11, 5, 99]\n"
          ]
        }
      ]
    }
  ],
  "metadata": {
    "colab": {
      "provenance": []
    },
    "kernelspec": {
      "display_name": "Python 3",
      "name": "python3"
    },
    "language_info": {
      "name": "python"
    }
  },
  "nbformat": 4,
  "nbformat_minor": 0
}